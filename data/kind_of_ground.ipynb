{
 "cells": [
  {
   "cell_type": "code",
   "execution_count": 1,
   "metadata": {},
   "outputs": [],
   "source": [
    "import numpy as np\n",
    "from tensorflow import keras\n",
    "import tensorflow as tf\n",
    "from matplotlib import pyplot as plt\n",
    "from sklearn.model_selection import train_test_split"
   ]
  },
  {
   "cell_type": "code",
   "execution_count": 2,
   "metadata": {},
   "outputs": [
    {
     "name": "stdout",
     "output_type": "stream",
     "text": [
      "Found 27000 files belonging to 10 classes.\n",
      "Using 21600 files for training.\n"
     ]
    }
   ],
   "source": [
    "data_dir = r\"C:\\Users\\a051799\\OneDrive - Alliance\\Documents\\Julia_veille_techno\\Blog\\EuroSAT_RGB\\EuroSAT_RGB\"\n",
    "train_ds = tf.keras.utils.image_dataset_from_directory(\n",
    "  data_dir,\n",
    "  validation_split=0.2,\n",
    "  subset=\"training\",\n",
    "  seed=123,\n",
    "  image_size=(64, 64),\n",
    "  batch_size=32)"
   ]
  },
  {
   "cell_type": "code",
   "execution_count": 3,
   "metadata": {},
   "outputs": [
    {
     "name": "stdout",
     "output_type": "stream",
     "text": [
      "Found 27000 files belonging to 10 classes.\n",
      "Using 5400 files for validation.\n"
     ]
    }
   ],
   "source": [
    "val_ds = tf.keras.utils.image_dataset_from_directory(\n",
    "  data_dir,\n",
    "  validation_split=0.2,\n",
    "  subset=\"validation\",\n",
    "  seed=123,\n",
    "  image_size=(64, 64),\n",
    "  batch_size=32)"
   ]
  },
  {
   "cell_type": "code",
   "execution_count": 4,
   "metadata": {},
   "outputs": [
    {
     "name": "stdout",
     "output_type": "stream",
     "text": [
      "['AnnualCrop', 'Forest', 'HerbaceousVegetation', 'Highway', 'Industrial', 'Pasture', 'PermanentCrop', 'Residential', 'River', 'SeaLake']\n"
     ]
    }
   ],
   "source": [
    "class_names = train_ds.class_names\n",
    "print(class_names)"
   ]
  },
  {
   "cell_type": "code",
   "execution_count": 5,
   "metadata": {},
   "outputs": [
    {
     "name": "stdout",
     "output_type": "stream",
     "text": [
      "(32, 64, 64, 3)\n",
      "(32,)\n"
     ]
    }
   ],
   "source": [
    "for image_batch, labels_batch in train_ds:\n",
    "  print(image_batch.shape)\n",
    "  print(labels_batch.shape)\n",
    "  break"
   ]
  },
  {
   "cell_type": "code",
   "execution_count": 6,
   "metadata": {},
   "outputs": [],
   "source": [
    "normalization_layer = tf.keras.layers.Rescaling(1./255)\n",
    "cropper_layer = tf.keras.layers.Cropping2D(cropping=((16, 16)))\n",
    "\n",
    "cropped_ds = train_ds.map(lambda x, y: (cropper_layer(x), y))\n",
    "normalized_ds_train = cropped_ds.map(lambda x, y: (normalization_layer(x), y))\n",
    "\n",
    "cropped_ds = val_ds.map(lambda x, y: (cropper_layer(x), y))\n",
    "normalized_ds_valid = cropped_ds.map(lambda x, y: (normalization_layer(x), y))"
   ]
  },
  {
   "cell_type": "code",
   "execution_count": 7,
   "metadata": {},
   "outputs": [],
   "source": [
    "AUTOTUNE = tf.data.AUTOTUNE\n",
    "\n",
    "train_ds = normalized_ds_train.cache().prefetch(buffer_size=AUTOTUNE)\n",
    "val_ds = normalized_ds_valid.cache().prefetch(buffer_size=AUTOTUNE)"
   ]
  },
  {
   "cell_type": "code",
   "execution_count": 8,
   "metadata": {},
   "outputs": [],
   "source": [
    "model = keras.models.Sequential([\n",
    "    keras.layers.Input((32, 32, 3)),\n",
    "    keras.layers.Conv2D(32, (3, 3), activation='relu'), # 13 spectral bands\n",
    "    keras.layers.MaxPooling2D((2, 2)),\n",
    "    keras.layers.Dropout(0.2),\n",
    "    keras.layers.Conv2D(64, (3, 3), activation='relu'),\n",
    "    keras.layers.MaxPooling2D((2, 2)),\n",
    "    keras.layers.Dropout(0.2),\n",
    "    keras.layers.Flatten(),\n",
    "    keras.layers.Dense(64, activation='relu'),\n",
    "    keras.layers.Dense(10) # 10 different classes in the EuroSAT dataset\n",
    "])"
   ]
  },
  {
   "cell_type": "code",
   "execution_count": 10,
   "metadata": {},
   "outputs": [],
   "source": [
    "model.compile(optimizer='adam',\n",
    "              loss=keras.losses.SparseCategoricalCrossentropy(from_logits=True),\n",
    "              metrics=['accuracy'])"
   ]
  },
  {
   "cell_type": "code",
   "execution_count": 10,
   "metadata": {},
   "outputs": [
    {
     "name": "stdout",
     "output_type": "stream",
     "text": [
      "Epoch 1/100\n"
     ]
    },
    {
     "name": "stdout",
     "output_type": "stream",
     "text": [
      "\u001b[1m675/675\u001b[0m \u001b[32m━━━━━━━━━━━━━━━━━━━━\u001b[0m\u001b[37m\u001b[0m \u001b[1m52s\u001b[0m 74ms/step - accuracy: 0.3355 - loss: 1.7103 - val_accuracy: 0.5283 - val_loss: 1.2534\n",
      "Epoch 2/100\n",
      "\u001b[1m675/675\u001b[0m \u001b[32m━━━━━━━━━━━━━━━━━━━━\u001b[0m\u001b[37m\u001b[0m \u001b[1m8s\u001b[0m 11ms/step - accuracy: 0.5769 - loss: 1.1418 - val_accuracy: 0.6920 - val_loss: 0.8665\n",
      "Epoch 3/100\n",
      "\u001b[1m675/675\u001b[0m \u001b[32m━━━━━━━━━━━━━━━━━━━━\u001b[0m\u001b[37m\u001b[0m \u001b[1m7s\u001b[0m 11ms/step - accuracy: 0.6829 - loss: 0.8746 - val_accuracy: 0.6933 - val_loss: 0.8250\n",
      "Epoch 4/100\n",
      "\u001b[1m675/675\u001b[0m \u001b[32m━━━━━━━━━━━━━━━━━━━━\u001b[0m\u001b[37m\u001b[0m \u001b[1m7s\u001b[0m 11ms/step - accuracy: 0.7153 - loss: 0.7822 - val_accuracy: 0.7320 - val_loss: 0.7549\n",
      "Epoch 5/100\n",
      "\u001b[1m675/675\u001b[0m \u001b[32m━━━━━━━━━━━━━━━━━━━━\u001b[0m\u001b[37m\u001b[0m \u001b[1m7s\u001b[0m 11ms/step - accuracy: 0.7351 - loss: 0.7320 - val_accuracy: 0.7476 - val_loss: 0.7129\n",
      "Epoch 6/100\n",
      "\u001b[1m675/675\u001b[0m \u001b[32m━━━━━━━━━━━━━━━━━━━━\u001b[0m\u001b[37m\u001b[0m \u001b[1m8s\u001b[0m 11ms/step - accuracy: 0.7489 - loss: 0.6975 - val_accuracy: 0.7541 - val_loss: 0.6912\n",
      "Epoch 7/100\n",
      "\u001b[1m675/675\u001b[0m \u001b[32m━━━━━━━━━━━━━━━━━━━━\u001b[0m\u001b[37m\u001b[0m \u001b[1m8s\u001b[0m 12ms/step - accuracy: 0.7554 - loss: 0.6779 - val_accuracy: 0.7593 - val_loss: 0.6923\n",
      "Epoch 8/100\n",
      "\u001b[1m675/675\u001b[0m \u001b[32m━━━━━━━━━━━━━━━━━━━━\u001b[0m\u001b[37m\u001b[0m \u001b[1m8s\u001b[0m 11ms/step - accuracy: 0.7610 - loss: 0.6653 - val_accuracy: 0.7633 - val_loss: 0.6741\n",
      "Epoch 9/100\n",
      "\u001b[1m675/675\u001b[0m \u001b[32m━━━━━━━━━━━━━━━━━━━━\u001b[0m\u001b[37m\u001b[0m \u001b[1m8s\u001b[0m 12ms/step - accuracy: 0.7730 - loss: 0.6382 - val_accuracy: 0.7819 - val_loss: 0.6424\n",
      "Epoch 10/100\n",
      "\u001b[1m675/675\u001b[0m \u001b[32m━━━━━━━━━━━━━━━━━━━━\u001b[0m\u001b[37m\u001b[0m \u001b[1m8s\u001b[0m 11ms/step - accuracy: 0.7841 - loss: 0.6172 - val_accuracy: 0.7781 - val_loss: 0.6599\n",
      "Epoch 11/100\n",
      "\u001b[1m675/675\u001b[0m \u001b[32m━━━━━━━━━━━━━━━━━━━━\u001b[0m\u001b[37m\u001b[0m \u001b[1m7s\u001b[0m 10ms/step - accuracy: 0.7870 - loss: 0.6015 - val_accuracy: 0.7657 - val_loss: 0.6788\n",
      "Epoch 12/100\n",
      "\u001b[1m675/675\u001b[0m \u001b[32m━━━━━━━━━━━━━━━━━━━━\u001b[0m\u001b[37m\u001b[0m \u001b[1m7s\u001b[0m 11ms/step - accuracy: 0.7943 - loss: 0.5896 - val_accuracy: 0.7902 - val_loss: 0.6242\n",
      "Epoch 13/100\n",
      "\u001b[1m675/675\u001b[0m \u001b[32m━━━━━━━━━━━━━━━━━━━━\u001b[0m\u001b[37m\u001b[0m \u001b[1m7s\u001b[0m 11ms/step - accuracy: 0.8007 - loss: 0.5637 - val_accuracy: 0.7919 - val_loss: 0.6167\n",
      "Epoch 14/100\n",
      "\u001b[1m675/675\u001b[0m \u001b[32m━━━━━━━━━━━━━━━━━━━━\u001b[0m\u001b[37m\u001b[0m \u001b[1m8s\u001b[0m 13ms/step - accuracy: 0.8079 - loss: 0.5468 - val_accuracy: 0.7941 - val_loss: 0.6017\n",
      "Epoch 15/100\n",
      "\u001b[1m675/675\u001b[0m \u001b[32m━━━━━━━━━━━━━━━━━━━━\u001b[0m\u001b[37m\u001b[0m \u001b[1m8s\u001b[0m 13ms/step - accuracy: 0.8094 - loss: 0.5396 - val_accuracy: 0.7843 - val_loss: 0.6068\n",
      "Epoch 16/100\n",
      "\u001b[1m675/675\u001b[0m \u001b[32m━━━━━━━━━━━━━━━━━━━━\u001b[0m\u001b[37m\u001b[0m \u001b[1m8s\u001b[0m 12ms/step - accuracy: 0.8161 - loss: 0.5299 - val_accuracy: 0.8069 - val_loss: 0.5873\n",
      "Epoch 17/100\n",
      "\u001b[1m675/675\u001b[0m \u001b[32m━━━━━━━━━━━━━━━━━━━━\u001b[0m\u001b[37m\u001b[0m \u001b[1m8s\u001b[0m 12ms/step - accuracy: 0.8221 - loss: 0.5125 - val_accuracy: 0.8009 - val_loss: 0.5819\n",
      "Epoch 18/100\n",
      "\u001b[1m675/675\u001b[0m \u001b[32m━━━━━━━━━━━━━━━━━━━━\u001b[0m\u001b[37m\u001b[0m \u001b[1m8s\u001b[0m 11ms/step - accuracy: 0.8224 - loss: 0.5090 - val_accuracy: 0.8002 - val_loss: 0.5884\n",
      "Epoch 19/100\n",
      "\u001b[1m675/675\u001b[0m \u001b[32m━━━━━━━━━━━━━━━━━━━━\u001b[0m\u001b[37m\u001b[0m \u001b[1m12s\u001b[0m 17ms/step - accuracy: 0.8335 - loss: 0.4821 - val_accuracy: 0.7883 - val_loss: 0.5910\n",
      "Epoch 20/100\n",
      "\u001b[1m675/675\u001b[0m \u001b[32m━━━━━━━━━━━━━━━━━━━━\u001b[0m\u001b[37m\u001b[0m \u001b[1m11s\u001b[0m 17ms/step - accuracy: 0.8299 - loss: 0.4826 - val_accuracy: 0.8076 - val_loss: 0.5724\n",
      "Epoch 21/100\n",
      "\u001b[1m675/675\u001b[0m \u001b[32m━━━━━━━━━━━━━━━━━━━━\u001b[0m\u001b[37m\u001b[0m \u001b[1m11s\u001b[0m 16ms/step - accuracy: 0.8291 - loss: 0.4855 - val_accuracy: 0.8026 - val_loss: 0.5818\n",
      "Epoch 22/100\n",
      "\u001b[1m675/675\u001b[0m \u001b[32m━━━━━━━━━━━━━━━━━━━━\u001b[0m\u001b[37m\u001b[0m \u001b[1m7s\u001b[0m 11ms/step - accuracy: 0.8352 - loss: 0.4650 - val_accuracy: 0.7898 - val_loss: 0.6127\n",
      "Epoch 23/100\n",
      "\u001b[1m675/675\u001b[0m \u001b[32m━━━━━━━━━━━━━━━━━━━━\u001b[0m\u001b[37m\u001b[0m \u001b[1m7s\u001b[0m 10ms/step - accuracy: 0.8397 - loss: 0.4535 - val_accuracy: 0.8024 - val_loss: 0.5745\n",
      "Epoch 24/100\n",
      "\u001b[1m675/675\u001b[0m \u001b[32m━━━━━━━━━━━━━━━━━━━━\u001b[0m\u001b[37m\u001b[0m \u001b[1m7s\u001b[0m 11ms/step - accuracy: 0.8454 - loss: 0.4368 - val_accuracy: 0.8078 - val_loss: 0.5779\n",
      "Epoch 25/100\n",
      "\u001b[1m675/675\u001b[0m \u001b[32m━━━━━━━━━━━━━━━━━━━━\u001b[0m\u001b[37m\u001b[0m \u001b[1m7s\u001b[0m 11ms/step - accuracy: 0.8493 - loss: 0.4283 - val_accuracy: 0.8009 - val_loss: 0.5959\n",
      "Epoch 26/100\n",
      "\u001b[1m675/675\u001b[0m \u001b[32m━━━━━━━━━━━━━━━━━━━━\u001b[0m\u001b[37m\u001b[0m \u001b[1m8s\u001b[0m 12ms/step - accuracy: 0.8551 - loss: 0.4111 - val_accuracy: 0.7861 - val_loss: 0.6276\n",
      "Epoch 27/100\n",
      "\u001b[1m675/675\u001b[0m \u001b[32m━━━━━━━━━━━━━━━━━━━━\u001b[0m\u001b[37m\u001b[0m \u001b[1m8s\u001b[0m 12ms/step - accuracy: 0.8536 - loss: 0.4148 - val_accuracy: 0.8030 - val_loss: 0.5838\n",
      "Epoch 28/100\n",
      "\u001b[1m675/675\u001b[0m \u001b[32m━━━━━━━━━━━━━━━━━━━━\u001b[0m\u001b[37m\u001b[0m \u001b[1m10s\u001b[0m 14ms/step - accuracy: 0.8578 - loss: 0.3964 - val_accuracy: 0.8093 - val_loss: 0.5715\n",
      "Epoch 29/100\n",
      "\u001b[1m675/675\u001b[0m \u001b[32m━━━━━━━━━━━━━━━━━━━━\u001b[0m\u001b[37m\u001b[0m \u001b[1m9s\u001b[0m 13ms/step - accuracy: 0.8643 - loss: 0.3825 - val_accuracy: 0.7887 - val_loss: 0.6228\n",
      "Epoch 30/100\n",
      "\u001b[1m675/675\u001b[0m \u001b[32m━━━━━━━━━━━━━━━━━━━━\u001b[0m\u001b[37m\u001b[0m \u001b[1m6s\u001b[0m 9ms/step - accuracy: 0.8681 - loss: 0.3669 - val_accuracy: 0.8139 - val_loss: 0.5614\n",
      "Epoch 31/100\n",
      "\u001b[1m675/675\u001b[0m \u001b[32m━━━━━━━━━━━━━━━━━━━━\u001b[0m\u001b[37m\u001b[0m \u001b[1m6s\u001b[0m 9ms/step - accuracy: 0.8718 - loss: 0.3595 - val_accuracy: 0.8057 - val_loss: 0.5981\n",
      "Epoch 32/100\n",
      "\u001b[1m675/675\u001b[0m \u001b[32m━━━━━━━━━━━━━━━━━━━━\u001b[0m\u001b[37m\u001b[0m \u001b[1m7s\u001b[0m 11ms/step - accuracy: 0.8702 - loss: 0.3677 - val_accuracy: 0.8131 - val_loss: 0.5896\n",
      "Epoch 33/100\n",
      "\u001b[1m675/675\u001b[0m \u001b[32m━━━━━━━━━━━━━━━━━━━━\u001b[0m\u001b[37m\u001b[0m \u001b[1m9s\u001b[0m 13ms/step - accuracy: 0.8723 - loss: 0.3569 - val_accuracy: 0.8061 - val_loss: 0.5851\n",
      "Epoch 34/100\n",
      "\u001b[1m675/675\u001b[0m \u001b[32m━━━━━━━━━━━━━━━━━━━━\u001b[0m\u001b[37m\u001b[0m \u001b[1m9s\u001b[0m 13ms/step - accuracy: 0.8737 - loss: 0.3506 - val_accuracy: 0.8056 - val_loss: 0.5920\n",
      "Epoch 35/100\n",
      "\u001b[1m675/675\u001b[0m \u001b[32m━━━━━━━━━━━━━━━━━━━━\u001b[0m\u001b[37m\u001b[0m \u001b[1m8s\u001b[0m 12ms/step - accuracy: 0.8823 - loss: 0.3266 - val_accuracy: 0.8141 - val_loss: 0.5847\n",
      "Epoch 36/100\n",
      "\u001b[1m675/675\u001b[0m \u001b[32m━━━━━━━━━━━━━━━━━━━━\u001b[0m\u001b[37m\u001b[0m \u001b[1m9s\u001b[0m 13ms/step - accuracy: 0.8829 - loss: 0.3351 - val_accuracy: 0.8004 - val_loss: 0.6183\n",
      "Epoch 37/100\n",
      "\u001b[1m675/675\u001b[0m \u001b[32m━━━━━━━━━━━━━━━━━━━━\u001b[0m\u001b[37m\u001b[0m \u001b[1m8s\u001b[0m 12ms/step - accuracy: 0.8822 - loss: 0.3297 - val_accuracy: 0.8117 - val_loss: 0.6056\n",
      "Epoch 38/100\n",
      "\u001b[1m675/675\u001b[0m \u001b[32m━━━━━━━━━━━━━━━━━━━━\u001b[0m\u001b[37m\u001b[0m \u001b[1m9s\u001b[0m 13ms/step - accuracy: 0.8910 - loss: 0.3081 - val_accuracy: 0.8126 - val_loss: 0.6108\n",
      "Epoch 39/100\n",
      "\u001b[1m675/675\u001b[0m \u001b[32m━━━━━━━━━━━━━━━━━━━━\u001b[0m\u001b[37m\u001b[0m \u001b[1m8s\u001b[0m 12ms/step - accuracy: 0.8873 - loss: 0.3122 - val_accuracy: 0.8091 - val_loss: 0.6163\n",
      "Epoch 40/100\n",
      "\u001b[1m675/675\u001b[0m \u001b[32m━━━━━━━━━━━━━━━━━━━━\u001b[0m\u001b[37m\u001b[0m \u001b[1m8s\u001b[0m 12ms/step - accuracy: 0.8883 - loss: 0.3254 - val_accuracy: 0.8141 - val_loss: 0.6028\n",
      "Epoch 41/100\n",
      "\u001b[1m675/675\u001b[0m \u001b[32m━━━━━━━━━━━━━━━━━━━━\u001b[0m\u001b[37m\u001b[0m \u001b[1m8s\u001b[0m 11ms/step - accuracy: 0.8874 - loss: 0.3050 - val_accuracy: 0.8178 - val_loss: 0.6005\n",
      "Epoch 42/100\n",
      "\u001b[1m675/675\u001b[0m \u001b[32m━━━━━━━━━━━━━━━━━━━━\u001b[0m\u001b[37m\u001b[0m \u001b[1m8s\u001b[0m 11ms/step - accuracy: 0.8961 - loss: 0.2899 - val_accuracy: 0.8133 - val_loss: 0.6150\n",
      "Epoch 43/100\n",
      "\u001b[1m675/675\u001b[0m \u001b[32m━━━━━━━━━━━━━━━━━━━━\u001b[0m\u001b[37m\u001b[0m \u001b[1m8s\u001b[0m 12ms/step - accuracy: 0.9007 - loss: 0.2842 - val_accuracy: 0.8174 - val_loss: 0.6141\n",
      "Epoch 44/100\n",
      "\u001b[1m675/675\u001b[0m \u001b[32m━━━━━━━━━━━━━━━━━━━━\u001b[0m\u001b[37m\u001b[0m \u001b[1m10s\u001b[0m 14ms/step - accuracy: 0.9001 - loss: 0.2833 - val_accuracy: 0.8146 - val_loss: 0.6215\n",
      "Epoch 45/100\n",
      "\u001b[1m675/675\u001b[0m \u001b[32m━━━━━━━━━━━━━━━━━━━━\u001b[0m\u001b[37m\u001b[0m \u001b[1m10s\u001b[0m 15ms/step - accuracy: 0.9037 - loss: 0.2748 - val_accuracy: 0.8187 - val_loss: 0.6063\n",
      "Epoch 46/100\n",
      "\u001b[1m675/675\u001b[0m \u001b[32m━━━━━━━━━━━━━━━━━━━━\u001b[0m\u001b[37m\u001b[0m \u001b[1m8s\u001b[0m 12ms/step - accuracy: 0.9054 - loss: 0.2674 - val_accuracy: 0.8048 - val_loss: 0.6537\n",
      "Epoch 47/100\n",
      "\u001b[1m675/675\u001b[0m \u001b[32m━━━━━━━━━━━━━━━━━━━━\u001b[0m\u001b[37m\u001b[0m \u001b[1m8s\u001b[0m 13ms/step - accuracy: 0.9047 - loss: 0.2738 - val_accuracy: 0.8006 - val_loss: 0.7002\n",
      "Epoch 48/100\n",
      "\u001b[1m675/675\u001b[0m \u001b[32m━━━━━━━━━━━━━━━━━━━━\u001b[0m\u001b[37m\u001b[0m \u001b[1m8s\u001b[0m 12ms/step - accuracy: 0.9050 - loss: 0.2609 - val_accuracy: 0.8137 - val_loss: 0.6309\n",
      "Epoch 49/100\n",
      "\u001b[1m675/675\u001b[0m \u001b[32m━━━━━━━━━━━━━━━━━━━━\u001b[0m\u001b[37m\u001b[0m \u001b[1m9s\u001b[0m 13ms/step - accuracy: 0.9079 - loss: 0.2611 - val_accuracy: 0.8157 - val_loss: 0.6318\n",
      "Epoch 50/100\n",
      "\u001b[1m675/675\u001b[0m \u001b[32m━━━━━━━━━━━━━━━━━━━━\u001b[0m\u001b[37m\u001b[0m \u001b[1m8s\u001b[0m 13ms/step - accuracy: 0.9107 - loss: 0.2559 - val_accuracy: 0.8204 - val_loss: 0.5990\n",
      "Epoch 51/100\n",
      "\u001b[1m675/675\u001b[0m \u001b[32m━━━━━━━━━━━━━━━━━━━━\u001b[0m\u001b[37m\u001b[0m \u001b[1m8s\u001b[0m 12ms/step - accuracy: 0.9074 - loss: 0.2585 - val_accuracy: 0.8119 - val_loss: 0.6426\n",
      "Epoch 52/100\n",
      "\u001b[1m675/675\u001b[0m \u001b[32m━━━━━━━━━━━━━━━━━━━━\u001b[0m\u001b[37m\u001b[0m \u001b[1m9s\u001b[0m 14ms/step - accuracy: 0.9071 - loss: 0.2596 - val_accuracy: 0.8019 - val_loss: 0.6691\n",
      "Epoch 53/100\n",
      "\u001b[1m675/675\u001b[0m \u001b[32m━━━━━━━━━━━━━━━━━━━━\u001b[0m\u001b[37m\u001b[0m \u001b[1m8s\u001b[0m 12ms/step - accuracy: 0.9166 - loss: 0.2387 - val_accuracy: 0.8133 - val_loss: 0.6569\n",
      "Epoch 54/100\n",
      "\u001b[1m675/675\u001b[0m \u001b[32m━━━━━━━━━━━━━━━━━━━━\u001b[0m\u001b[37m\u001b[0m \u001b[1m8s\u001b[0m 12ms/step - accuracy: 0.9169 - loss: 0.2354 - val_accuracy: 0.7994 - val_loss: 0.6894\n",
      "Epoch 55/100\n",
      "\u001b[1m675/675\u001b[0m \u001b[32m━━━━━━━━━━━━━━━━━━━━\u001b[0m\u001b[37m\u001b[0m \u001b[1m10s\u001b[0m 15ms/step - accuracy: 0.9187 - loss: 0.2332 - val_accuracy: 0.8193 - val_loss: 0.6551\n",
      "Epoch 56/100\n",
      "\u001b[1m675/675\u001b[0m \u001b[32m━━━━━━━━━━━━━━━━━━━━\u001b[0m\u001b[37m\u001b[0m \u001b[1m11s\u001b[0m 16ms/step - accuracy: 0.9144 - loss: 0.2358 - val_accuracy: 0.8202 - val_loss: 0.6399\n",
      "Epoch 57/100\n",
      "\u001b[1m675/675\u001b[0m \u001b[32m━━━━━━━━━━━━━━━━━━━━\u001b[0m\u001b[37m\u001b[0m \u001b[1m10s\u001b[0m 16ms/step - accuracy: 0.9195 - loss: 0.2259 - val_accuracy: 0.8139 - val_loss: 0.6719\n",
      "Epoch 58/100\n",
      "\u001b[1m675/675\u001b[0m \u001b[32m━━━━━━━━━━━━━━━━━━━━\u001b[0m\u001b[37m\u001b[0m \u001b[1m12s\u001b[0m 17ms/step - accuracy: 0.9230 - loss: 0.2189 - val_accuracy: 0.8119 - val_loss: 0.6762\n",
      "Epoch 59/100\n",
      "\u001b[1m675/675\u001b[0m \u001b[32m━━━━━━━━━━━━━━━━━━━━\u001b[0m\u001b[37m\u001b[0m \u001b[1m11s\u001b[0m 16ms/step - accuracy: 0.9237 - loss: 0.2239 - val_accuracy: 0.7674 - val_loss: 0.8477\n",
      "Epoch 60/100\n",
      "\u001b[1m675/675\u001b[0m \u001b[32m━━━━━━━━━━━━━━━━━━━━\u001b[0m\u001b[37m\u001b[0m \u001b[1m10s\u001b[0m 15ms/step - accuracy: 0.9218 - loss: 0.2145 - val_accuracy: 0.8146 - val_loss: 0.6687\n",
      "Epoch 61/100\n",
      "\u001b[1m675/675\u001b[0m \u001b[32m━━━━━━━━━━━━━━━━━━━━\u001b[0m\u001b[37m\u001b[0m \u001b[1m11s\u001b[0m 16ms/step - accuracy: 0.9213 - loss: 0.2221 - val_accuracy: 0.8111 - val_loss: 0.6964\n",
      "Epoch 62/100\n",
      "\u001b[1m675/675\u001b[0m \u001b[32m━━━━━━━━━━━━━━━━━━━━\u001b[0m\u001b[37m\u001b[0m \u001b[1m10s\u001b[0m 15ms/step - accuracy: 0.9280 - loss: 0.2063 - val_accuracy: 0.8152 - val_loss: 0.6848\n",
      "Epoch 63/100\n",
      "\u001b[1m675/675\u001b[0m \u001b[32m━━━━━━━━━━━━━━━━━━━━\u001b[0m\u001b[37m\u001b[0m \u001b[1m12s\u001b[0m 17ms/step - accuracy: 0.9230 - loss: 0.2163 - val_accuracy: 0.8019 - val_loss: 0.7452\n",
      "Epoch 64/100\n",
      "\u001b[1m675/675\u001b[0m \u001b[32m━━━━━━━━━━━━━━━━━━━━\u001b[0m\u001b[37m\u001b[0m \u001b[1m11s\u001b[0m 16ms/step - accuracy: 0.9269 - loss: 0.2078 - val_accuracy: 0.8206 - val_loss: 0.6969\n",
      "Epoch 65/100\n",
      "\u001b[1m675/675\u001b[0m \u001b[32m━━━━━━━━━━━━━━━━━━━━\u001b[0m\u001b[37m\u001b[0m \u001b[1m12s\u001b[0m 18ms/step - accuracy: 0.9272 - loss: 0.2061 - val_accuracy: 0.8196 - val_loss: 0.6803\n",
      "Epoch 66/100\n",
      "\u001b[1m675/675\u001b[0m \u001b[32m━━━━━━━━━━━━━━━━━━━━\u001b[0m\u001b[37m\u001b[0m \u001b[1m13s\u001b[0m 19ms/step - accuracy: 0.9267 - loss: 0.2057 - val_accuracy: 0.8215 - val_loss: 0.6789\n",
      "Epoch 67/100\n",
      "\u001b[1m675/675\u001b[0m \u001b[32m━━━━━━━━━━━━━━━━━━━━\u001b[0m\u001b[37m\u001b[0m \u001b[1m11s\u001b[0m 16ms/step - accuracy: 0.9282 - loss: 0.2096 - val_accuracy: 0.8204 - val_loss: 0.6790\n",
      "Epoch 68/100\n",
      "\u001b[1m675/675\u001b[0m \u001b[32m━━━━━━━━━━━━━━━━━━━━\u001b[0m\u001b[37m\u001b[0m \u001b[1m11s\u001b[0m 16ms/step - accuracy: 0.9313 - loss: 0.1912 - val_accuracy: 0.8119 - val_loss: 0.7357\n",
      "Epoch 69/100\n",
      "\u001b[1m675/675\u001b[0m \u001b[32m━━━━━━━━━━━━━━━━━━━━\u001b[0m\u001b[37m\u001b[0m \u001b[1m10s\u001b[0m 15ms/step - accuracy: 0.9255 - loss: 0.2077 - val_accuracy: 0.8161 - val_loss: 0.7040\n",
      "Epoch 70/100\n",
      "\u001b[1m675/675\u001b[0m \u001b[32m━━━━━━━━━━━━━━━━━━━━\u001b[0m\u001b[37m\u001b[0m \u001b[1m9s\u001b[0m 14ms/step - accuracy: 0.9325 - loss: 0.1954 - val_accuracy: 0.8330 - val_loss: 0.6653\n",
      "Epoch 71/100\n",
      "\u001b[1m675/675\u001b[0m \u001b[32m━━━━━━━━━━━━━━━━━━━━\u001b[0m\u001b[37m\u001b[0m \u001b[1m11s\u001b[0m 16ms/step - accuracy: 0.9346 - loss: 0.1925 - val_accuracy: 0.8143 - val_loss: 0.7177\n",
      "Epoch 72/100\n",
      "\u001b[1m675/675\u001b[0m \u001b[32m━━━━━━━━━━━━━━━━━━━━\u001b[0m\u001b[37m\u001b[0m \u001b[1m10s\u001b[0m 14ms/step - accuracy: 0.9342 - loss: 0.1937 - val_accuracy: 0.8024 - val_loss: 0.7763\n",
      "Epoch 73/100\n",
      "\u001b[1m675/675\u001b[0m \u001b[32m━━━━━━━━━━━━━━━━━━━━\u001b[0m\u001b[37m\u001b[0m \u001b[1m10s\u001b[0m 14ms/step - accuracy: 0.9267 - loss: 0.2095 - val_accuracy: 0.8187 - val_loss: 0.7228\n",
      "Epoch 74/100\n",
      "\u001b[1m675/675\u001b[0m \u001b[32m━━━━━━━━━━━━━━━━━━━━\u001b[0m\u001b[37m\u001b[0m \u001b[1m11s\u001b[0m 16ms/step - accuracy: 0.9323 - loss: 0.1950 - val_accuracy: 0.8165 - val_loss: 0.6882\n",
      "Epoch 75/100\n",
      "\u001b[1m675/675\u001b[0m \u001b[32m━━━━━━━━━━━━━━━━━━━━\u001b[0m\u001b[37m\u001b[0m \u001b[1m10s\u001b[0m 14ms/step - accuracy: 0.9316 - loss: 0.1947 - val_accuracy: 0.8157 - val_loss: 0.6780\n",
      "Epoch 76/100\n",
      "\u001b[1m675/675\u001b[0m \u001b[32m━━━━━━━━━━━━━━━━━━━━\u001b[0m\u001b[37m\u001b[0m \u001b[1m9s\u001b[0m 14ms/step - accuracy: 0.9332 - loss: 0.1866 - val_accuracy: 0.8219 - val_loss: 0.7019\n",
      "Epoch 77/100\n",
      "\u001b[1m675/675\u001b[0m \u001b[32m━━━━━━━━━━━━━━━━━━━━\u001b[0m\u001b[37m\u001b[0m \u001b[1m10s\u001b[0m 15ms/step - accuracy: 0.9359 - loss: 0.1868 - val_accuracy: 0.8193 - val_loss: 0.7284\n",
      "Epoch 78/100\n",
      "\u001b[1m675/675\u001b[0m \u001b[32m━━━━━━━━━━━━━━━━━━━━\u001b[0m\u001b[37m\u001b[0m \u001b[1m9s\u001b[0m 14ms/step - accuracy: 0.9376 - loss: 0.1810 - val_accuracy: 0.8248 - val_loss: 0.6979\n",
      "Epoch 79/100\n",
      "\u001b[1m675/675\u001b[0m \u001b[32m━━━━━━━━━━━━━━━━━━━━\u001b[0m\u001b[37m\u001b[0m \u001b[1m10s\u001b[0m 15ms/step - accuracy: 0.9404 - loss: 0.1694 - val_accuracy: 0.8170 - val_loss: 0.7262\n",
      "Epoch 80/100\n",
      "\u001b[1m675/675\u001b[0m \u001b[32m━━━━━━━━━━━━━━━━━━━━\u001b[0m\u001b[37m\u001b[0m \u001b[1m10s\u001b[0m 14ms/step - accuracy: 0.9395 - loss: 0.1804 - val_accuracy: 0.8119 - val_loss: 0.7396\n",
      "Epoch 81/100\n",
      "\u001b[1m675/675\u001b[0m \u001b[32m━━━━━━━━━━━━━━━━━━━━\u001b[0m\u001b[37m\u001b[0m \u001b[1m10s\u001b[0m 14ms/step - accuracy: 0.9387 - loss: 0.1747 - val_accuracy: 0.8152 - val_loss: 0.7334\n",
      "Epoch 82/100\n",
      "\u001b[1m675/675\u001b[0m \u001b[32m━━━━━━━━━━━━━━━━━━━━\u001b[0m\u001b[37m\u001b[0m \u001b[1m10s\u001b[0m 15ms/step - accuracy: 0.9447 - loss: 0.1660 - val_accuracy: 0.8133 - val_loss: 0.7492\n",
      "Epoch 83/100\n",
      "\u001b[1m675/675\u001b[0m \u001b[32m━━━━━━━━━━━━━━━━━━━━\u001b[0m\u001b[37m\u001b[0m \u001b[1m10s\u001b[0m 15ms/step - accuracy: 0.9393 - loss: 0.1678 - val_accuracy: 0.8113 - val_loss: 0.7343\n",
      "Epoch 84/100\n",
      "\u001b[1m675/675\u001b[0m \u001b[32m━━━━━━━━━━━━━━━━━━━━\u001b[0m\u001b[37m\u001b[0m \u001b[1m12s\u001b[0m 18ms/step - accuracy: 0.9369 - loss: 0.1740 - val_accuracy: 0.8117 - val_loss: 0.7419\n",
      "Epoch 85/100\n",
      "\u001b[1m675/675\u001b[0m \u001b[32m━━━━━━━━━━━━━━━━━━━━\u001b[0m\u001b[37m\u001b[0m \u001b[1m10s\u001b[0m 15ms/step - accuracy: 0.9428 - loss: 0.1638 - val_accuracy: 0.8043 - val_loss: 0.7763\n",
      "Epoch 86/100\n",
      "\u001b[1m675/675\u001b[0m \u001b[32m━━━━━━━━━━━━━━━━━━━━\u001b[0m\u001b[37m\u001b[0m \u001b[1m11s\u001b[0m 16ms/step - accuracy: 0.9398 - loss: 0.1738 - val_accuracy: 0.7961 - val_loss: 0.8025\n",
      "Epoch 87/100\n",
      "\u001b[1m675/675\u001b[0m \u001b[32m━━━━━━━━━━━━━━━━━━━━\u001b[0m\u001b[37m\u001b[0m \u001b[1m11s\u001b[0m 16ms/step - accuracy: 0.9433 - loss: 0.1580 - val_accuracy: 0.8124 - val_loss: 0.7634\n",
      "Epoch 88/100\n",
      "\u001b[1m675/675\u001b[0m \u001b[32m━━━━━━━━━━━━━━━━━━━━\u001b[0m\u001b[37m\u001b[0m \u001b[1m11s\u001b[0m 17ms/step - accuracy: 0.9470 - loss: 0.1507 - val_accuracy: 0.8176 - val_loss: 0.7563\n",
      "Epoch 89/100\n",
      "\u001b[1m675/675\u001b[0m \u001b[32m━━━━━━━━━━━━━━━━━━━━\u001b[0m\u001b[37m\u001b[0m \u001b[1m11s\u001b[0m 16ms/step - accuracy: 0.9418 - loss: 0.1662 - val_accuracy: 0.8130 - val_loss: 0.7767\n",
      "Epoch 90/100\n",
      "\u001b[1m675/675\u001b[0m \u001b[32m━━━━━━━━━━━━━━━━━━━━\u001b[0m\u001b[37m\u001b[0m \u001b[1m10s\u001b[0m 15ms/step - accuracy: 0.9470 - loss: 0.1509 - val_accuracy: 0.8089 - val_loss: 0.7911\n",
      "Epoch 91/100\n",
      "\u001b[1m675/675\u001b[0m \u001b[32m━━━━━━━━━━━━━━━━━━━━\u001b[0m\u001b[37m\u001b[0m \u001b[1m11s\u001b[0m 16ms/step - accuracy: 0.9470 - loss: 0.1542 - val_accuracy: 0.8256 - val_loss: 0.7501\n",
      "Epoch 92/100\n",
      "\u001b[1m675/675\u001b[0m \u001b[32m━━━━━━━━━━━━━━━━━━━━\u001b[0m\u001b[37m\u001b[0m \u001b[1m9s\u001b[0m 14ms/step - accuracy: 0.9438 - loss: 0.1624 - val_accuracy: 0.8219 - val_loss: 0.7707\n",
      "Epoch 93/100\n",
      "\u001b[1m675/675\u001b[0m \u001b[32m━━━━━━━━━━━━━━━━━━━━\u001b[0m\u001b[37m\u001b[0m \u001b[1m10s\u001b[0m 15ms/step - accuracy: 0.9485 - loss: 0.1516 - val_accuracy: 0.8131 - val_loss: 0.7779\n",
      "Epoch 94/100\n",
      "\u001b[1m675/675\u001b[0m \u001b[32m━━━━━━━━━━━━━━━━━━━━\u001b[0m\u001b[37m\u001b[0m \u001b[1m10s\u001b[0m 15ms/step - accuracy: 0.9412 - loss: 0.1677 - val_accuracy: 0.8187 - val_loss: 0.7612\n",
      "Epoch 95/100\n",
      "\u001b[1m675/675\u001b[0m \u001b[32m━━━━━━━━━━━━━━━━━━━━\u001b[0m\u001b[37m\u001b[0m \u001b[1m10s\u001b[0m 15ms/step - accuracy: 0.9481 - loss: 0.1529 - val_accuracy: 0.8209 - val_loss: 0.7636\n",
      "Epoch 96/100\n",
      "\u001b[1m675/675\u001b[0m \u001b[32m━━━━━━━━━━━━━━━━━━━━\u001b[0m\u001b[37m\u001b[0m \u001b[1m9s\u001b[0m 14ms/step - accuracy: 0.9430 - loss: 0.1601 - val_accuracy: 0.8196 - val_loss: 0.7685\n",
      "Epoch 97/100\n",
      "\u001b[1m675/675\u001b[0m \u001b[32m━━━━━━━━━━━━━━━━━━━━\u001b[0m\u001b[37m\u001b[0m \u001b[1m10s\u001b[0m 15ms/step - accuracy: 0.9485 - loss: 0.1503 - val_accuracy: 0.8156 - val_loss: 0.7943\n",
      "Epoch 98/100\n",
      "\u001b[1m675/675\u001b[0m \u001b[32m━━━━━━━━━━━━━━━━━━━━\u001b[0m\u001b[37m\u001b[0m \u001b[1m10s\u001b[0m 15ms/step - accuracy: 0.9433 - loss: 0.1571 - val_accuracy: 0.8187 - val_loss: 0.7624\n",
      "Epoch 99/100\n",
      "\u001b[1m675/675\u001b[0m \u001b[32m━━━━━━━━━━━━━━━━━━━━\u001b[0m\u001b[37m\u001b[0m \u001b[1m10s\u001b[0m 15ms/step - accuracy: 0.9450 - loss: 0.1531 - val_accuracy: 0.8202 - val_loss: 0.7938\n",
      "Epoch 100/100\n",
      "\u001b[1m675/675\u001b[0m \u001b[32m━━━━━━━━━━━━━━━━━━━━\u001b[0m\u001b[37m\u001b[0m \u001b[1m10s\u001b[0m 15ms/step - accuracy: 0.9472 - loss: 0.1485 - val_accuracy: 0.8291 - val_loss: 0.7573\n"
     ]
    }
   ],
   "source": [
    "# Train the model\n",
    "history = model.fit(\n",
    "  train_ds,\n",
    "  validation_data=val_ds,\n",
    "  epochs=100\n",
    ")"
   ]
  },
  {
   "cell_type": "code",
   "execution_count": 11,
   "metadata": {},
   "outputs": [],
   "source": [
    "model.save(\"ground_finder.keras\")"
   ]
  },
  {
   "cell_type": "code",
   "execution_count": null,
   "metadata": {},
   "outputs": [],
   "source": []
  }
 ],
 "metadata": {
  "kernelspec": {
   "display_name": ".venv",
   "language": "python",
   "name": "python3"
  },
  "language_info": {
   "codemirror_mode": {
    "name": "ipython",
    "version": 3
   },
   "file_extension": ".py",
   "mimetype": "text/x-python",
   "name": "python",
   "nbconvert_exporter": "python",
   "pygments_lexer": "ipython3",
   "version": "3.10.11"
  }
 },
 "nbformat": 4,
 "nbformat_minor": 2
}
